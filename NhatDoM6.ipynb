{
 "cells": [
  {
   "cell_type": "markdown",
   "id": "f9347cc8-e15c-4062-ac68-c6bd80ec7a19",
   "metadata": {},
   "source": [
    "NHAT DO MINH WITH Peer-graded Assignment"
   ]
  },
  {
   "cell_type": "markdown",
   "id": "01f46df7-fb77-4e2b-8901-13d59e5a16ab",
   "metadata": {},
   "source": [
    "I am Nhat Do Minh "
   ]
  },
  {
   "cell_type": "markdown",
   "id": "601a0e6e-2a9a-4859-a0b1-2060f50d9013",
   "metadata": {},
   "source": [
    " list data science languages:\n",
    " 1. Python\n",
    " 2. R/RStudio\n",
    " 3. SQl\n",
    " 4. Julia\n",
    " 5. Scala\n",
    " 6. Java\n"
   ]
  },
  {
   "cell_type": "markdown",
   "id": "2d6667af-163b-4ac2-8b0c-ed00e29fff84",
   "metadata": {},
   "source": [
    " list data science libraries:\n",
    "1. Numpy\n",
    "2. Pandas\n",
    "3. Matplotlib\n",
    "4. Plotly\n",
    "5. Caret\n",
    "6. Hadoop\n",
    "7. Apache Spark"
   ]
  },
  {
   "cell_type": "code",
   "execution_count": null,
   "id": "cb7b40fe-c1f1-4a56-a373-a67ffcd23a02",
   "metadata": {},
   "outputs": [],
   "source": [
    "Data Science tools\n",
    "1. Python\n",
    "2. SQL\n",
    "3. R/RStudio\n"
   ]
  },
  {
   "cell_type": "markdown",
   "id": "2010fc79-1b68-4a07-bd57-3100d3033459",
   "metadata": {},
   "source": [
    "Arithmetic expressions are fundamental to mathematical computations and are widely used in data science and programming. They involve basic arithmetic operations like addition, subtraction, multiplication, and division."
   ]
  },
  {
   "cell_type": "code",
   "execution_count": null,
   "id": "c071f2c5-4ca8-4d58-9902-aed9c5485ba1",
   "metadata": {},
   "outputs": [],
   "source": [
    "# Multiply and add numbers\n",
    "result = (10 * 5) + 3\n",
    "print(result)"
   ]
  },
  {
   "cell_type": "code",
   "execution_count": null,
   "id": "8c776205-8bb8-4623-b4a9-72aa250c7148",
   "metadata": {},
   "outputs": [],
   "source": [
    "# Convert minutes to hours\n",
    "minutes = 150\n",
    "hours = minutes / 60\n",
    "print(hours)"
   ]
  },
  {
   "cell_type": "code",
   "execution_count": null,
   "id": "50f2f25a-e97b-4cec-bb57-9c5d4a66a118",
   "metadata": {},
   "outputs": [],
   "source": []
  }
 ],
 "metadata": {
  "kernelspec": {
   "display_name": "Python 3 (ipykernel)",
   "language": "python",
   "name": "python3"
  },
  "language_info": {
   "codemirror_mode": {
    "name": "ipython",
    "version": 3
   },
   "file_extension": ".py",
   "mimetype": "text/x-python",
   "name": "python",
   "nbconvert_exporter": "python",
   "pygments_lexer": "ipython3",
   "version": "3.12.7"
  }
 },
 "nbformat": 4,
 "nbformat_minor": 5
}
